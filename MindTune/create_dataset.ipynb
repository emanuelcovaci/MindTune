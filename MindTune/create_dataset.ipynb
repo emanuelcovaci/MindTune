{
 "cells": [
  {
   "cell_type": "code",
   "id": "initial_id",
   "metadata": {
    "collapsed": true,
    "ExecuteTime": {
     "end_time": "2025-03-15T09:57:18.056395Z",
     "start_time": "2025-03-15T09:57:17.907402Z"
    }
   },
   "source": [
    "import numpy as np\n",
    "import pandas as pd\n",
    "import scipy.signal as signal\n",
    "import pandas as pd\n",
    "import pandas as pd\n",
    "from sklearn.decomposition import PCA\n",
    "import matplotlib.pyplot as plt\n",
    "import numpy as np\n",
    "import glob\n",
    "from torch.utils.data import Dataset, DataLoader\n",
    "from datetime import datetime\n",
    "import os\n",
    "import random\n",
    "import seaborn as sns"
   ],
   "outputs": [],
   "execution_count": 27
  },
  {
   "metadata": {
    "ExecuteTime": {
     "end_time": "2025-03-15T09:38:52.160350Z",
     "start_time": "2025-03-15T09:38:52.155341Z"
    }
   },
   "cell_type": "code",
   "source": [
    "eeg_signals = ['EEG 1',\n",
    "               'EEG 2',\n",
    "               'EEG 3',\n",
    "               'EEG 4',\n",
    "               'EEG 5',\n",
    "               'EEG 6',\n",
    "               'EEG 7',\n",
    "               'EEG 8']"
   ],
   "id": "bbf1d045ef4e0825",
   "outputs": [],
   "execution_count": 2
  },
  {
   "metadata": {
    "ExecuteTime": {
     "end_time": "2025-03-15T09:38:56.266079Z",
     "start_time": "2025-03-15T09:38:56.253059Z"
    }
   },
   "cell_type": "code",
   "source": [
    "brain_bands = ['EEG 1_theta',\n",
    "               'EEG 2_theta',\n",
    "               'EEG 3_theta',\n",
    "               'EEG 4_theta',\n",
    "               'EEG 5_theta',\n",
    "               'EEG 6_theta',\n",
    "               'EEG 7_theta',\n",
    "               'EEG 8_theta',\n",
    "               'EEG 1_alpha',\n",
    "               'EEG 2_alpha',\n",
    "               'EEG 3_alpha',\n",
    "               'EEG 4_alpha',\n",
    "               'EEG 5_alpha',\n",
    "               'EEG 6_alpha',\n",
    "               'EEG 7_alpha',\n",
    "               'EEG 8_alpha',\n",
    "               'EEG 1_beta',\n",
    "               'EEG 2_beta',\n",
    "               'EEG 3_beta',\n",
    "               'EEG 4_beta',\n",
    "               'EEG 5_beta',\n",
    "               'EEG 6_beta',\n",
    "               'EEG 7_beta',\n",
    "               'EEG 8_beta',\n",
    "               'EEG 1_gamma',\n",
    "               'EEG 2_gamma',\n",
    "               'EEG 3_gamma',\n",
    "               'EEG 4_gamma',\n",
    "               'EEG 5_gamma',\n",
    "               'EEG 6_gamma',\n",
    "               'EEG 7_gamma',\n",
    "               'EEG 8_gamma']"
   ],
   "id": "b3796c01d7e3a470",
   "outputs": [],
   "execution_count": 3
  },
  {
   "metadata": {
    "ExecuteTime": {
     "end_time": "2025-03-15T09:39:40.659789Z",
     "start_time": "2025-03-15T09:39:40.639726Z"
    }
   },
   "cell_type": "code",
   "source": [
    "mean_std = ['EEG 1_theta_mean',\n",
    "            'EEG 1_theta_std',\n",
    "            'EEG 2_theta_mean',\n",
    "            'EEG 2_theta_std',\n",
    "            'EEG 3_theta_mean',\n",
    "            'EEG 3_theta_std',\n",
    "            'EEG 4_theta_mean',\n",
    "            'EEG 4_theta_std',\n",
    "            'EEG 5_theta_mean',\n",
    "            'EEG 5_theta_std',\n",
    "            'EEG 6_theta_mean',\n",
    "            'EEG 6_theta_std',\n",
    "            'EEG 7_theta_mean',\n",
    "            'EEG 7_theta_std',\n",
    "            'EEG 8_theta_mean',\n",
    "            'EEG 8_theta_std',\n",
    "            'EEG 1_alpha_mean',\n",
    "            'EEG 1_alpha_std',\n",
    "            'EEG 2_alpha_mean',\n",
    "            'EEG 2_alpha_std',\n",
    "            'EEG 3_alpha_mean',\n",
    "            'EEG 3_alpha_std',\n",
    "            'EEG 4_alpha_mean',\n",
    "            'EEG 4_alpha_std',\n",
    "            'EEG 5_alpha_mean',\n",
    "            'EEG 5_alpha_std',\n",
    "            'EEG 6_alpha_mean',\n",
    "            'EEG 6_alpha_std',\n",
    "            'EEG 7_alpha_mean',\n",
    "            'EEG 7_alpha_std',\n",
    "            'EEG 8_alpha_mean',\n",
    "            'EEG 8_alpha_std',\n",
    "            'EEG 1_beta_mean',\n",
    "            'EEG 1_beta_std',\n",
    "            'EEG 2_beta_mean',\n",
    "            'EEG 2_beta_std',\n",
    "            'EEG 3_beta_mean',\n",
    "            'EEG 3_beta_std',\n",
    "            'EEG 4_beta_mean',\n",
    "            'EEG 4_beta_std',\n",
    "            'EEG 5_beta_mean',\n",
    "            'EEG 5_beta_std',\n",
    "            'EEG 6_beta_mean',\n",
    "            'EEG 6_beta_std',\n",
    "            'EEG 7_beta_mean',\n",
    "            'EEG 7_beta_std',\n",
    "            'EEG 8_beta_mean',\n",
    "            'EEG 8_beta_std',\n",
    "            'EEG 1_gamma_mean',\n",
    "            'EEG 1_gamma_std',\n",
    "            'EEG 2_gamma_mean',\n",
    "            'EEG 2_gamma_std',\n",
    "            'EEG 3_gamma_mean',\n",
    "            'EEG 3_gamma_std',\n",
    "            'EEG 4_gamma_mean',\n",
    "            'EEG 4_gamma_std',\n",
    "            'EEG 5_gamma_mean',\n",
    "            'EEG 5_gamma_std',\n",
    "            'EEG 6_gamma_mean',\n",
    "            'EEG 6_gamma_std',\n",
    "            'EEG 7_gamma_mean',\n",
    "            'EEG 7_gamma_std',\n",
    "            'EEG 8_gamma_mean',\n",
    "            'EEG 8_gamma_std']"
   ],
   "id": "35f7662390620fbd",
   "outputs": [],
   "execution_count": 9
  },
  {
   "metadata": {
    "ExecuteTime": {
     "end_time": "2025-03-15T09:39:01.008827Z",
     "start_time": "2025-03-15T09:39:01.001822Z"
    }
   },
   "cell_type": "code",
   "source": [
    "# Define the notch filter parameters\n",
    "def notch_filter(data, fs=250, freq=50, quality_factor=30):\n",
    "    b, a = signal.iirnotch(w0=freq, Q=quality_factor, fs=fs)\n",
    "    return signal.filtfilt(b, a, data)\n",
    "\n"
   ],
   "id": "10ba8d91784a34c1",
   "outputs": [],
   "execution_count": 4
  },
  {
   "metadata": {
    "ExecuteTime": {
     "end_time": "2025-03-15T09:39:04.929782Z",
     "start_time": "2025-03-15T09:39:04.915780Z"
    }
   },
   "cell_type": "code",
   "source": [
    "def notch_df_filter(df):\n",
    "    fs = 250  # Sampling frequency of the EEG signals\n",
    "    for col in df.columns:\n",
    "        df[col] = notch_filter(df[col], fs=fs, freq=50)\n",
    "    return df"
   ],
   "id": "25eca7c773d9f9c0",
   "outputs": [],
   "execution_count": 5
  },
  {
   "metadata": {
    "ExecuteTime": {
     "end_time": "2025-03-15T09:39:08.964686Z",
     "start_time": "2025-03-15T09:39:08.947684Z"
    }
   },
   "cell_type": "code",
   "source": [
    "def bandpass_filter(data, low, high, fs=250, order=5):\n",
    "    nyquist = 0.5 * fs\n",
    "    low = low / nyquist\n",
    "    high = high / nyquist\n",
    "    b, a = signal.butter(order, [low, high], btype='band')\n",
    "    return signal.filtfilt(b, a, data)"
   ],
   "id": "54c8acaaf9404a43",
   "outputs": [],
   "execution_count": 6
  },
  {
   "metadata": {
    "ExecuteTime": {
     "end_time": "2025-03-15T09:39:12.906427Z",
     "start_time": "2025-03-15T09:39:12.899427Z"
    }
   },
   "cell_type": "code",
   "source": [
    "bands = {\n",
    "    'theta': (4, 8),\n",
    "    'alpha': (8, 13),\n",
    "    'beta': (13, 30),\n",
    "    'gamma': (30, 45)\n",
    "}\n"
   ],
   "id": "3990520afe16c3d2",
   "outputs": [],
   "execution_count": 7
  },
  {
   "metadata": {
    "ExecuteTime": {
     "end_time": "2025-03-15T09:57:46.857230Z",
     "start_time": "2025-03-15T09:57:46.846230Z"
    }
   },
   "cell_type": "code",
   "source": [
    "def extract_brain_waves(df, fs):\n",
    "    filtered_df = pd.DataFrame()\n",
    "    for band_name, (low, high) in bands.items():\n",
    "        for col in df.columns:\n",
    "            filtered_df[f'{col}_{band_name}'] = bandpass_filter(df[col], low, high, fs=fs)\n",
    "    for col in filtered_df.columns:\n",
    "        filtered_df[f'{col}_mean'] = filtered_df[col].mean()\n",
    "        filtered_df[f'{col}_std'] = filtered_df[col].std()\n",
    "    \n",
    "    filtered_df = filtered_df[mean_std]\n",
    "    sample = filtered_df.iloc[[0]]\n",
    "    \n",
    "    \n",
    "    return sample"
   ],
   "id": "e512c3ee70e98331",
   "outputs": [],
   "execution_count": 29
  },
  {
   "metadata": {
    "ExecuteTime": {
     "end_time": "2025-03-15T09:51:36.330215Z",
     "start_time": "2025-03-15T09:51:36.274320Z"
    }
   },
   "cell_type": "code",
   "source": [
    "df = pd.read_csv(r\"dataset_raw\\0\\relax_0.csv\")\n",
    "df = df[eeg_signals]\n",
    "df = df[200: 2000]\n",
    "df = notch_df_filter(df)\n",
    "df = extract_brain_waves(df, fs=250)"
   ],
   "id": "ddf08f79a51f11bc",
   "outputs": [],
   "execution_count": 12
  },
  {
   "metadata": {
    "ExecuteTime": {
     "end_time": "2025-03-15T09:51:37.079826Z",
     "start_time": "2025-03-15T09:51:37.061831Z"
    }
   },
   "cell_type": "code",
   "source": "df",
   "id": "ae80ba8343557e92",
   "outputs": [
    {
     "data": {
      "text/plain": [
       "   EEG 1_theta_mean  EEG 1_theta_std  EEG 2_theta_mean  EEG 2_theta_std  \\\n",
       "0          0.038817         7.543888          0.117962        32.867005   \n",
       "\n",
       "   EEG 3_theta_mean  EEG 3_theta_std  EEG 4_theta_mean  EEG 4_theta_std  \\\n",
       "0         -0.000164        23.322893         -0.033314        29.742462   \n",
       "\n",
       "   EEG 5_theta_mean  EEG 5_theta_std  ...  EEG 4_gamma_mean  EEG 4_gamma_std  \\\n",
       "0          0.191241        17.973859  ...          0.044564        17.710543   \n",
       "\n",
       "   EEG 5_gamma_mean  EEG 5_gamma_std  EEG 6_gamma_mean  EEG 6_gamma_std  \\\n",
       "0          0.051532        14.361972          0.033895         9.998664   \n",
       "\n",
       "   EEG 7_gamma_mean  EEG 7_gamma_std  EEG 8_gamma_mean  EEG 8_gamma_std  \n",
       "0           0.05007        16.631535          0.046834        17.566802  \n",
       "\n",
       "[1 rows x 64 columns]"
      ],
      "text/html": [
       "<div>\n",
       "<style scoped>\n",
       "    .dataframe tbody tr th:only-of-type {\n",
       "        vertical-align: middle;\n",
       "    }\n",
       "\n",
       "    .dataframe tbody tr th {\n",
       "        vertical-align: top;\n",
       "    }\n",
       "\n",
       "    .dataframe thead th {\n",
       "        text-align: right;\n",
       "    }\n",
       "</style>\n",
       "<table border=\"1\" class=\"dataframe\">\n",
       "  <thead>\n",
       "    <tr style=\"text-align: right;\">\n",
       "      <th></th>\n",
       "      <th>EEG 1_theta_mean</th>\n",
       "      <th>EEG 1_theta_std</th>\n",
       "      <th>EEG 2_theta_mean</th>\n",
       "      <th>EEG 2_theta_std</th>\n",
       "      <th>EEG 3_theta_mean</th>\n",
       "      <th>EEG 3_theta_std</th>\n",
       "      <th>EEG 4_theta_mean</th>\n",
       "      <th>EEG 4_theta_std</th>\n",
       "      <th>EEG 5_theta_mean</th>\n",
       "      <th>EEG 5_theta_std</th>\n",
       "      <th>...</th>\n",
       "      <th>EEG 4_gamma_mean</th>\n",
       "      <th>EEG 4_gamma_std</th>\n",
       "      <th>EEG 5_gamma_mean</th>\n",
       "      <th>EEG 5_gamma_std</th>\n",
       "      <th>EEG 6_gamma_mean</th>\n",
       "      <th>EEG 6_gamma_std</th>\n",
       "      <th>EEG 7_gamma_mean</th>\n",
       "      <th>EEG 7_gamma_std</th>\n",
       "      <th>EEG 8_gamma_mean</th>\n",
       "      <th>EEG 8_gamma_std</th>\n",
       "    </tr>\n",
       "  </thead>\n",
       "  <tbody>\n",
       "    <tr>\n",
       "      <th>0</th>\n",
       "      <td>0.038817</td>\n",
       "      <td>7.543888</td>\n",
       "      <td>0.117962</td>\n",
       "      <td>32.867005</td>\n",
       "      <td>-0.000164</td>\n",
       "      <td>23.322893</td>\n",
       "      <td>-0.033314</td>\n",
       "      <td>29.742462</td>\n",
       "      <td>0.191241</td>\n",
       "      <td>17.973859</td>\n",
       "      <td>...</td>\n",
       "      <td>0.044564</td>\n",
       "      <td>17.710543</td>\n",
       "      <td>0.051532</td>\n",
       "      <td>14.361972</td>\n",
       "      <td>0.033895</td>\n",
       "      <td>9.998664</td>\n",
       "      <td>0.05007</td>\n",
       "      <td>16.631535</td>\n",
       "      <td>0.046834</td>\n",
       "      <td>17.566802</td>\n",
       "    </tr>\n",
       "  </tbody>\n",
       "</table>\n",
       "<p>1 rows × 64 columns</p>\n",
       "</div>"
      ]
     },
     "execution_count": 13,
     "metadata": {},
     "output_type": "execute_result"
    }
   ],
   "execution_count": 13
  },
  {
   "metadata": {
    "ExecuteTime": {
     "end_time": "2025-03-15T09:57:58.597765Z",
     "start_time": "2025-03-15T09:57:58.592763Z"
    }
   },
   "cell_type": "code",
   "source": [
    "folder_0 = \"dataset_postprocessing/0\"\n",
    "folder_1 = \"dataset_postprocessing/1\"\n",
    "\n",
    "# Function to load all CSV files from a folder\n",
    "def load_csv_from_folder(folder_path):\n",
    "    data_list = []\n",
    "    for file in os.listdir(folder_path):\n",
    "        if file.endswith(\".csv\"):\n",
    "            file_path = os.path.join(folder_path, file)\n",
    "            df = pd.read_csv(file_path)\n",
    "            data_list.append(df)\n",
    "    return pd.concat(data_list, ignore_index=True) if data_list else None"
   ],
   "id": "faaaa53406153acc",
   "outputs": [],
   "execution_count": 30
  },
  {
   "metadata": {
    "ExecuteTime": {
     "end_time": "2025-03-15T09:56:00.116591Z",
     "start_time": "2025-03-15T09:56:00.036587Z"
    }
   },
   "cell_type": "code",
   "source": [
    "df_0 = load_csv_from_folder(folder_0)\n",
    "df_1 = load_csv_from_folder(folder_1)"
   ],
   "id": "df95e9c51857c9ef",
   "outputs": [],
   "execution_count": 19
  },
  {
   "metadata": {
    "ExecuteTime": {
     "end_time": "2025-03-15T09:56:05.798869Z",
     "start_time": "2025-03-15T09:56:05.790869Z"
    }
   },
   "cell_type": "code",
   "source": "df = pd.concat([df_0, df_1], ignore_index=True)\n",
   "id": "22344c53708579e4",
   "outputs": [],
   "execution_count": 20
  },
  {
   "metadata": {
    "ExecuteTime": {
     "end_time": "2025-03-15T09:56:10.603453Z",
     "start_time": "2025-03-15T09:56:10.592378Z"
    }
   },
   "cell_type": "code",
   "source": "df_numeric = df.select_dtypes(include=[np.number])",
   "id": "3bcfa4f5653b2cbe",
   "outputs": [],
   "execution_count": 21
  },
  {
   "metadata": {
    "ExecuteTime": {
     "end_time": "2025-03-15T09:56:50.387248Z",
     "start_time": "2025-03-15T09:56:50.370248Z"
    }
   },
   "cell_type": "code",
   "source": [
    "pca = PCA(n_components=2)\n",
    "reduced_data = pca.fit_transform(df_numeric)"
   ],
   "id": "2c7105a80287d903",
   "outputs": [],
   "execution_count": 24
  },
  {
   "metadata": {
    "ExecuteTime": {
     "end_time": "2025-03-15T09:56:56.160025Z",
     "start_time": "2025-03-15T09:56:56.152018Z"
    }
   },
   "cell_type": "code",
   "source": [
    "df_pca = pd.DataFrame(reduced_data, columns=['PC1', 'PC2'])\n",
    "df_pca['label'] = df['label']\n"
   ],
   "id": "332a6e5e6e6633bc",
   "outputs": [],
   "execution_count": 25
  },
  {
   "metadata": {
    "ExecuteTime": {
     "end_time": "2025-03-15T09:57:22.800055Z",
     "start_time": "2025-03-15T09:57:22.655912Z"
    }
   },
   "cell_type": "code",
   "source": [
    "plt.figure(figsize=(10, 6))\n",
    "sns.scatterplot(data=df_pca, x='PC1', y='PC2', hue='label', palette=['blue', 'red'], alpha=0.7)\n",
    "plt.xlabel(\"Principal Component 1\")\n",
    "plt.ylabel(\"Principal Component 2\")\n",
    "plt.title(\"PCA Projection of the Dataset\")\n",
    "plt.legend(title=\"Class Label\")\n",
    "plt.grid(True)\n",
    "plt.show()"
   ],
   "id": "f0da06755233d662",
   "outputs": [
    {
     "data": {
      "text/plain": [
       "<Figure size 1000x600 with 1 Axes>"
      ],
      "image/png": "[encoded data removed]"
     },
     "metadata": {},
     "output_type": "display_data"
    }
   ],
   "execution_count": 28
  },
  {
   "metadata": {},
   "cell_type": "code",
   "outputs": [],
   "execution_count": null,
   "source": "",
   "id": "578f414b1c0755f9"
  }
 ],
 "metadata": {
  "kernelspec": {
   "display_name": "Python 3",
   "language": "python",
   "name": "python3"
  },
  "language_info": {
   "codemirror_mode": {
    "name": "ipython",
    "version": 2
   },
   "file_extension": ".py",
   "mimetype": "text/x-python",
   "name": "python",
   "nbconvert_exporter": "python",
   "pygments_lexer": "ipython2",
   "version": "2.7.6"
  }
 },
 "nbformat": 4,
 "nbformat_minor": 5
}
