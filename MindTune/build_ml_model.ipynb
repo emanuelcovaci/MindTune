{
 "cells": [
  {
   "metadata": {
    "ExecuteTime": {
     "end_time": "2025-03-15T12:20:58.849288Z",
     "start_time": "2025-03-15T12:20:57.172640Z"
    }
   },
   "cell_type": "code",
   "source": [
    "import os\n",
    "from torch.utils.data import Dataset, DataLoader\n",
    "import pandas as pd\n",
    "import torch.optim as optim\n",
    "import torch\n",
    "import torch.nn as nn\n",
    "import torch.nn.functional as F\n",
    "from sklearn.metrics import classification_report\n"
   ],
   "id": "initial_id",
   "outputs": [],
   "execution_count": 1
  },
  {
   "metadata": {
    "ExecuteTime": {
     "end_time": "2025-03-15T12:20:59.319042Z",
     "start_time": "2025-03-15T12:20:59.305056Z"
    }
   },
   "cell_type": "code",
   "source": [
    "class CustomCSVDataset(Dataset):\n",
    "    def __init__(self, root_dir):\n",
    "        \"\"\"\n",
    "        Args:\n",
    "            root_dir (string): Directory with all the data subdirectories.\n",
    "        \"\"\"\n",
    "        self.data = []\n",
    "        self.labels = []\n",
    "        for label, folder_name in enumerate(['0', '1']):\n",
    "            folder_path = os.path.join(root_dir, folder_name)\n",
    "            for file_name in os.listdir(folder_path):\n",
    "                if file_name.endswith('.csv'):\n",
    "                    file_path = os.path.join(folder_path, file_name)\n",
    "                    csv_data = pd.read_csv(file_path)\n",
    "                    csv_data = csv_data.drop('label', axis=1)\n",
    "                    csv_data = csv_data.values\n",
    "                    self.data.append(torch.tensor(csv_data, dtype=torch.float32))\n",
    "                    self.labels.append(label)\n",
    "    def __len__(self):\n",
    "        return len(self.data)\n",
    " \n",
    "    def __getitem__(self, idx):\n",
    "        return self.data[idx], self.labels[idx]"
   ],
   "id": "cb7e6c8f62cca462",
   "outputs": [],
   "execution_count": 3
  },
  {
   "metadata": {
    "ExecuteTime": {
     "end_time": "2025-03-15T12:20:59.334042Z",
     "start_time": "2025-03-15T12:20:59.320042Z"
    }
   },
   "cell_type": "code",
   "source": [
    "class SimpleClassifier(nn.Module):\n",
    "    def __init__(self, input_size, hidden_size=64):\n",
    "        super(SimpleClassifier, self).__init__()\n",
    "        self.fc1 = nn.Linear(input_size, hidden_size)\n",
    "        self.fc2 = nn.Linear(hidden_size, 2)  # Assuming binary classification (2 classes)\n",
    " \n",
    "    def forward(self, x):\n",
    "        x = torch.relu(self.fc1(x))\n",
    "        x = self.fc2(x)\n",
    "        return x"
   ],
   "id": "1195da408a6ad133",
   "outputs": [],
   "execution_count": 4
  },
  {
   "metadata": {
    "ExecuteTime": {
     "end_time": "2025-03-15T12:20:59.709653Z",
     "start_time": "2025-03-15T12:20:59.699555Z"
    }
   },
   "cell_type": "code",
   "source": [
    "\n",
    "class TransformerClassifier(nn.Module):\n",
    "    def __init__(self, input_size, hidden_size=64, num_heads=2, num_layers=1):\n",
    "        super(TransformerClassifier, self).__init__()\n",
    "        \n",
    "        self.fc1 = nn.Linear(input_size, hidden_size)\n",
    "        \n",
    "        encoder_layer = nn.TransformerEncoderLayer(d_model=hidden_size, nhead=num_heads)\n",
    "        self.transformer_encoder = nn.TransformerEncoder(encoder_layer, num_layers=num_layers)\n",
    "        \n",
    "        self.fc2 = nn.Linear(hidden_size, 2)  # Binary classification\n",
    "\n",
    "    def forward(self, x):\n",
    "        x = F.relu(self.fc1(x))\n",
    "        x = x.unsqueeze(0)  # Add batch dimension for transformer input\n",
    "        x = self.transformer_encoder(x)\n",
    "        x = x.squeeze(0)  # Remove batch dimension\n",
    "        x = self.fc2(x)\n",
    "        return x"
   ],
   "id": "92486e9dbd2d637",
   "outputs": [],
   "execution_count": 5
  },
  {
   "metadata": {
    "ExecuteTime": {
     "end_time": "2025-03-15T12:21:01.144890Z",
     "start_time": "2025-03-15T12:21:01.128713Z"
    }
   },
   "cell_type": "code",
   "source": [
    "def train_model(model, train_loader, criterion, optimizer, num_epochs=5):\n",
    "    model.train()\n",
    "    for epoch in range(num_epochs):\n",
    "        for inputs, labels in train_loader:\n",
    "            inputs, labels = inputs.view(inputs.size(0), -1), labels  # Flatten inputs if necessary\n",
    "            optimizer.zero_grad()\n",
    "            outputs = model(inputs)\n",
    "            loss = criterion(outputs, labels)\n",
    "            loss.backward()\n",
    "            optimizer.step()\n",
    "        print(f'Epoch [{epoch+1}/{num_epochs}], Loss: {loss.item():.4f}')\n",
    " "
   ],
   "id": "96cfeef2f15d7a4b",
   "outputs": [],
   "execution_count": 6
  },
  {
   "metadata": {
    "ExecuteTime": {
     "end_time": "2025-03-15T12:21:01.659706Z",
     "start_time": "2025-03-15T12:21:01.640700Z"
    }
   },
   "cell_type": "code",
   "source": [
    "def evaluate_model(model, test_loader):\n",
    "    model.eval()\n",
    "    correct, total = 0, 0\n",
    "    with torch.no_grad():\n",
    "        for inputs, labels in test_loader:\n",
    "            inputs, labels = inputs.view(inputs.size(0), -1), labels\n",
    "            outputs = model(inputs)\n",
    "            _, predicted = torch.max(outputs, 1)\n",
    "            total += labels.size(0)\n",
    "            correct += (predicted == labels).sum().item()\n",
    "    print(f'Accuracy: {100 * correct / total:.2f}%')"
   ],
   "id": "79d79f9b143b9c96",
   "outputs": [],
   "execution_count": 7
  },
  {
   "metadata": {
    "ExecuteTime": {
     "end_time": "2025-03-15T12:21:03.235883Z",
     "start_time": "2025-03-15T12:21:03.225794Z"
    }
   },
   "cell_type": "code",
   "source": [
    "def evaluate_model(model, test_loader):\n",
    "    model.eval()\n",
    "    all_labels = []\n",
    "    all_predictions = []\n",
    "    with torch.no_grad():\n",
    "        for inputs, labels in test_loader:\n",
    "            inputs, labels = inputs.view(inputs.size(0), -1), labels\n",
    "            outputs = model(inputs)\n",
    "            _, predicted = torch.max(outputs, 1)\n",
    "            all_labels.extend(labels.numpy())\n",
    "            all_predictions.extend(predicted.numpy())\n",
    "    # Generate and print the classification report\n",
    "    print(classification_report(all_labels, all_predictions, target_names=['Class 0', 'Class 1']))"
   ],
   "id": "14b0b72b27af999a",
   "outputs": [],
   "execution_count": 8
  },
  {
   "metadata": {
    "ExecuteTime": {
     "end_time": "2025-03-15T12:21:05.845131Z",
     "start_time": "2025-03-15T12:21:05.762125Z"
    }
   },
   "cell_type": "code",
   "source": [
    "root_dir = 'dataset_postprocessing'  # Update with your data path\n",
    "input_size = 64  # Replace with the actual number of features in your data\n",
    "dataset = CustomCSVDataset(root_dir)\n",
    "train_loader = DataLoader(dataset, batch_size=2, shuffle=True)\n",
    "test_loader = DataLoader(dataset, batch_size=2, shuffle=False)"
   ],
   "id": "1ff0bfc56033390f",
   "outputs": [],
   "execution_count": 9
  },
  {
   "metadata": {
    "ExecuteTime": {
     "end_time": "2025-03-15T12:21:33.416891Z",
     "start_time": "2025-03-15T12:21:33.403804Z"
    }
   },
   "cell_type": "code",
   "source": [
    "model_simple = SimpleClassifier(input_size=input_size)\n",
    "criterion_simple = nn.CrossEntropyLoss()\n",
    "optimizer_simple = optim.Adam(model_simple.parameters(), lr=0.001)"
   ],
   "id": "308ce730179eef40",
   "outputs": [],
   "execution_count": 10
  },
  {
   "metadata": {
    "ExecuteTime": {
     "end_time": "2025-03-15T12:21:43.839405Z",
     "start_time": "2025-03-15T12:21:43.826429Z"
    }
   },
   "cell_type": "code",
   "source": [
    "model_transformer = TransformerClassifier(input_size=input_size)\n",
    "criterion_transformer = nn.CrossEntropyLoss()\n",
    "optimizer_transformer = optim.Adam(model_transformer.parameters(), lr=0.001)"
   ],
   "id": "fe1d7cc59a8bac89",
   "outputs": [],
   "execution_count": 11
  },
  {
   "metadata": {
    "ExecuteTime": {
     "end_time": "2025-03-15T12:21:58.636912Z",
     "start_time": "2025-03-15T12:21:57.467282Z"
    }
   },
   "cell_type": "code",
   "source": "train_model(model_simple, train_loader, criterion_simple, optimizer_simple, num_epochs=100)",
   "id": "583549340ccea2f5",
   "outputs": [
    {
     "name": "stdout",
     "output_type": "stream",
     "text": [
      "Epoch [1/100], Loss: 2.8672\n",
      "Epoch [2/100], Loss: 0.4594\n",
      "Epoch [3/100], Loss: 0.4384\n",
      "Epoch [4/100], Loss: 10.3059\n",
      "Epoch [5/100], Loss: 0.0649\n",
      "Epoch [6/100], Loss: 0.5091\n",
      "Epoch [7/100], Loss: 9.1010\n",
      "Epoch [8/100], Loss: 8.1203\n",
      "Epoch [9/100], Loss: 0.0252\n",
      "Epoch [10/100], Loss: 0.0017\n",
      "Epoch [11/100], Loss: 0.0275\n",
      "Epoch [12/100], Loss: 0.0071\n",
      "Epoch [13/100], Loss: 0.2696\n",
      "Epoch [14/100], Loss: 0.0179\n",
      "Epoch [15/100], Loss: 0.0000\n",
      "Epoch [16/100], Loss: 0.0003\n",
      "Epoch [17/100], Loss: 0.0570\n",
      "Epoch [18/100], Loss: 0.1357\n",
      "Epoch [19/100], Loss: 1.6407\n",
      "Epoch [20/100], Loss: 0.0102\n",
      "Epoch [21/100], Loss: 0.0556\n",
      "Epoch [22/100], Loss: 0.0644\n",
      "Epoch [23/100], Loss: 0.0000\n",
      "Epoch [24/100], Loss: 0.0030\n",
      "Epoch [25/100], Loss: 0.9634\n",
      "Epoch [26/100], Loss: 0.0000\n",
      "Epoch [27/100], Loss: 0.0581\n",
      "Epoch [28/100], Loss: 0.0870\n",
      "Epoch [29/100], Loss: 0.0006\n",
      "Epoch [30/100], Loss: 0.0001\n",
      "Epoch [31/100], Loss: 0.0095\n",
      "Epoch [32/100], Loss: 0.0084\n",
      "Epoch [33/100], Loss: 0.0470\n",
      "Epoch [34/100], Loss: 0.0182\n",
      "Epoch [35/100], Loss: 0.0018\n",
      "Epoch [36/100], Loss: 0.0464\n",
      "Epoch [37/100], Loss: 0.0036\n",
      "Epoch [38/100], Loss: 0.0709\n",
      "Epoch [39/100], Loss: 0.0000\n",
      "Epoch [40/100], Loss: 0.1651\n",
      "Epoch [41/100], Loss: 0.0449\n",
      "Epoch [42/100], Loss: 0.0000\n",
      "Epoch [43/100], Loss: 0.0244\n",
      "Epoch [44/100], Loss: 0.0023\n",
      "Epoch [45/100], Loss: 0.0070\n",
      "Epoch [46/100], Loss: 0.1482\n",
      "Epoch [47/100], Loss: 0.0014\n",
      "Epoch [48/100], Loss: 0.0001\n",
      "Epoch [49/100], Loss: 0.0105\n",
      "Epoch [50/100], Loss: 0.0237\n",
      "Epoch [51/100], Loss: 0.0000\n",
      "Epoch [52/100], Loss: 0.0314\n",
      "Epoch [53/100], Loss: 0.0024\n",
      "Epoch [54/100], Loss: 0.0025\n",
      "Epoch [55/100], Loss: 0.0000\n",
      "Epoch [56/100], Loss: 0.0000\n",
      "Epoch [57/100], Loss: 0.0023\n",
      "Epoch [58/100], Loss: 0.0152\n",
      "Epoch [59/100], Loss: 0.0831\n",
      "Epoch [60/100], Loss: 0.0043\n",
      "Epoch [61/100], Loss: 0.0000\n",
      "Epoch [62/100], Loss: 0.0000\n",
      "Epoch [63/100], Loss: 0.0086\n",
      "Epoch [64/100], Loss: 0.0017\n",
      "Epoch [65/100], Loss: 0.0085\n",
      "Epoch [66/100], Loss: 0.0025\n",
      "Epoch [67/100], Loss: 0.0008\n",
      "Epoch [68/100], Loss: 0.0000\n",
      "Epoch [69/100], Loss: 0.0060\n",
      "Epoch [70/100], Loss: 0.0012\n",
      "Epoch [71/100], Loss: 0.0419\n",
      "Epoch [72/100], Loss: 0.0000\n",
      "Epoch [73/100], Loss: 0.0032\n",
      "Epoch [74/100], Loss: 0.0000\n",
      "Epoch [75/100], Loss: 0.0108\n",
      "Epoch [76/100], Loss: 0.0000\n",
      "Epoch [77/100], Loss: 0.0326\n",
      "Epoch [78/100], Loss: 0.0000\n",
      "Epoch [79/100], Loss: 0.0322\n",
      "Epoch [80/100], Loss: 0.0038\n",
      "Epoch [81/100], Loss: 0.0009\n",
      "Epoch [82/100], Loss: 0.0344\n",
      "Epoch [83/100], Loss: 0.0140\n",
      "Epoch [84/100], Loss: 0.0107\n",
      "Epoch [85/100], Loss: 0.0158\n",
      "Epoch [86/100], Loss: 0.0250\n",
      "Epoch [87/100], Loss: 0.0000\n",
      "Epoch [88/100], Loss: 0.0003\n",
      "Epoch [89/100], Loss: 0.0697\n",
      "Epoch [90/100], Loss: 0.0005\n",
      "Epoch [91/100], Loss: 0.0008\n",
      "Epoch [92/100], Loss: 0.0000\n",
      "Epoch [93/100], Loss: 0.0058\n",
      "Epoch [94/100], Loss: 0.0000\n",
      "Epoch [95/100], Loss: 0.0023\n",
      "Epoch [96/100], Loss: 0.0000\n",
      "Epoch [97/100], Loss: 0.0004\n",
      "Epoch [98/100], Loss: 0.0001\n",
      "Epoch [99/100], Loss: 0.0080\n",
      "Epoch [100/100], Loss: 0.0000\n"
     ]
    }
   ],
   "execution_count": 12
  },
  {
   "metadata": {
    "ExecuteTime": {
     "end_time": "2025-03-15T12:22:42.783033Z",
     "start_time": "2025-03-15T12:22:36.969470Z"
    }
   },
   "cell_type": "code",
   "source": "train_model(model_transformer, train_loader, criterion_transformer, optimizer_transformer, num_epochs=100)",
   "id": "50b7ec41f8bf1e69",
   "outputs": [
    {
     "name": "stdout",
     "output_type": "stream",
     "text": [
      "Epoch [1/100], Loss: 0.1809\n",
      "Epoch [2/100], Loss: 0.2303\n",
      "Epoch [3/100], Loss: 0.0033\n",
      "Epoch [4/100], Loss: 0.0024\n",
      "Epoch [5/100], Loss: 0.0060\n",
      "Epoch [6/100], Loss: 0.0026\n",
      "Epoch [7/100], Loss: 0.0050\n",
      "Epoch [8/100], Loss: 0.1037\n",
      "Epoch [9/100], Loss: 0.0021\n",
      "Epoch [10/100], Loss: 1.9639\n",
      "Epoch [11/100], Loss: 0.1213\n",
      "Epoch [12/100], Loss: 0.0114\n",
      "Epoch [13/100], Loss: 0.0242\n",
      "Epoch [14/100], Loss: 0.7606\n",
      "Epoch [15/100], Loss: 0.0439\n",
      "Epoch [16/100], Loss: 0.0092\n",
      "Epoch [17/100], Loss: 0.0022\n",
      "Epoch [18/100], Loss: 0.2830\n",
      "Epoch [19/100], Loss: 0.0016\n",
      "Epoch [20/100], Loss: 0.0422\n",
      "Epoch [21/100], Loss: 0.0024\n",
      "Epoch [22/100], Loss: 0.0017\n",
      "Epoch [23/100], Loss: 0.0043\n",
      "Epoch [24/100], Loss: 0.0021\n",
      "Epoch [25/100], Loss: 0.3733\n",
      "Epoch [26/100], Loss: 0.0056\n",
      "Epoch [27/100], Loss: 0.0019\n",
      "Epoch [28/100], Loss: 0.0028\n",
      "Epoch [29/100], Loss: 0.0009\n",
      "Epoch [30/100], Loss: 0.0006\n",
      "Epoch [31/100], Loss: 0.0007\n",
      "Epoch [32/100], Loss: 0.0007\n",
      "Epoch [33/100], Loss: 0.0008\n",
      "Epoch [34/100], Loss: 0.0006\n",
      "Epoch [35/100], Loss: 0.0004\n",
      "Epoch [36/100], Loss: 0.0006\n",
      "Epoch [37/100], Loss: 0.0006\n",
      "Epoch [38/100], Loss: 0.0004\n",
      "Epoch [39/100], Loss: 0.0003\n",
      "Epoch [40/100], Loss: 0.0040\n",
      "Epoch [41/100], Loss: 0.0004\n",
      "Epoch [42/100], Loss: 0.0005\n",
      "Epoch [43/100], Loss: 0.0003\n",
      "Epoch [44/100], Loss: 0.0003\n",
      "Epoch [45/100], Loss: 0.0010\n",
      "Epoch [46/100], Loss: 0.0028\n",
      "Epoch [47/100], Loss: 0.0007\n",
      "Epoch [48/100], Loss: 0.0003\n",
      "Epoch [49/100], Loss: 0.0004\n",
      "Epoch [50/100], Loss: 0.0004\n",
      "Epoch [51/100], Loss: 0.0002\n",
      "Epoch [52/100], Loss: 0.0003\n",
      "Epoch [53/100], Loss: 0.0002\n",
      "Epoch [54/100], Loss: 0.0003\n",
      "Epoch [55/100], Loss: 0.0003\n",
      "Epoch [56/100], Loss: 0.0002\n",
      "Epoch [57/100], Loss: 0.0003\n",
      "Epoch [58/100], Loss: 0.0003\n",
      "Epoch [59/100], Loss: 0.0002\n",
      "Epoch [60/100], Loss: 0.0002\n",
      "Epoch [61/100], Loss: 0.0002\n",
      "Epoch [62/100], Loss: 0.0009\n",
      "Epoch [63/100], Loss: 0.0002\n",
      "Epoch [64/100], Loss: 0.0002\n",
      "Epoch [65/100], Loss: 0.0002\n",
      "Epoch [66/100], Loss: 0.0002\n",
      "Epoch [67/100], Loss: 0.0002\n",
      "Epoch [68/100], Loss: 0.0002\n",
      "Epoch [69/100], Loss: 0.0002\n",
      "Epoch [70/100], Loss: 0.0002\n",
      "Epoch [71/100], Loss: 0.0002\n",
      "Epoch [72/100], Loss: 0.0001\n",
      "Epoch [73/100], Loss: 0.0002\n",
      "Epoch [74/100], Loss: 0.0002\n",
      "Epoch [75/100], Loss: 0.0002\n",
      "Epoch [76/100], Loss: 0.0001\n",
      "Epoch [77/100], Loss: 0.0001\n",
      "Epoch [78/100], Loss: 0.0002\n",
      "Epoch [79/100], Loss: 0.0002\n",
      "Epoch [80/100], Loss: 0.0001\n",
      "Epoch [81/100], Loss: 0.0001\n",
      "Epoch [82/100], Loss: 0.0001\n",
      "Epoch [83/100], Loss: 0.0001\n",
      "Epoch [84/100], Loss: 0.0001\n",
      "Epoch [85/100], Loss: 0.0002\n",
      "Epoch [86/100], Loss: 0.0003\n",
      "Epoch [87/100], Loss: 0.0001\n",
      "Epoch [88/100], Loss: 0.0001\n",
      "Epoch [89/100], Loss: 0.0002\n",
      "Epoch [90/100], Loss: 0.0003\n",
      "Epoch [91/100], Loss: 0.0002\n",
      "Epoch [92/100], Loss: 0.0001\n",
      "Epoch [93/100], Loss: 0.0001\n",
      "Epoch [94/100], Loss: 0.0001\n",
      "Epoch [95/100], Loss: 0.0001\n",
      "Epoch [96/100], Loss: 0.0001\n",
      "Epoch [97/100], Loss: 0.0001\n",
      "Epoch [98/100], Loss: 0.0001\n",
      "Epoch [99/100], Loss: 0.0001\n",
      "Epoch [100/100], Loss: 0.0001\n"
     ]
    }
   ],
   "execution_count": 17
  },
  {
   "metadata": {
    "ExecuteTime": {
     "end_time": "2025-03-15T12:22:43.535964Z",
     "start_time": "2025-03-15T12:22:43.505965Z"
    }
   },
   "cell_type": "code",
   "source": "evaluate_model(model_transformer, train_loader)",
   "id": "5a680fd604044e61",
   "outputs": [
    {
     "name": "stdout",
     "output_type": "stream",
     "text": [
      "              precision    recall  f1-score   support\n",
      "\n",
      "     Class 0       1.00      1.00      1.00        37\n",
      "     Class 1       1.00      1.00      1.00        15\n",
      "\n",
      "    accuracy                           1.00        52\n",
      "   macro avg       1.00      1.00      1.00        52\n",
      "weighted avg       1.00      1.00      1.00        52\n",
      "\n"
     ]
    }
   ],
   "execution_count": 18
  },
  {
   "metadata": {
    "ExecuteTime": {
     "end_time": "2025-03-15T12:22:48.995711Z",
     "start_time": "2025-03-15T12:22:48.971714Z"
    }
   },
   "cell_type": "code",
   "source": "evaluate_model(model_simple, test_loader)",
   "id": "ac0a67517d32ece8",
   "outputs": [
    {
     "name": "stdout",
     "output_type": "stream",
     "text": [
      "              precision    recall  f1-score   support\n",
      "\n",
      "     Class 0       1.00      1.00      1.00        37\n",
      "     Class 1       1.00      1.00      1.00        15\n",
      "\n",
      "    accuracy                           1.00        52\n",
      "   macro avg       1.00      1.00      1.00        52\n",
      "weighted avg       1.00      1.00      1.00        52\n",
      "\n"
     ]
    }
   ],
   "execution_count": 19
  },
  {
   "metadata": {
    "ExecuteTime": {
     "end_time": "2025-03-15T12:24:13.563061Z",
     "start_time": "2025-03-15T12:24:13.544068Z"
    }
   },
   "cell_type": "code",
   "source": [
    "model_save_path = \"models_saved/model_simple.pth\"\n",
    "torch.save(model_simple.state_dict(), model_save_path)"
   ],
   "id": "c427097493471cd0",
   "outputs": [],
   "execution_count": 23
  },
  {
   "metadata": {
    "ExecuteTime": {
     "end_time": "2025-03-15T12:24:02.981156Z",
     "start_time": "2025-03-15T12:24:02.975162Z"
    }
   },
   "cell_type": "code",
   "source": [
    "model_save_path = \"models_saved/model_transformer.pth\"\n",
    "torch.save(model_transformer.state_dict(), model_save_path)"
   ],
   "id": "1ed9f04645b6f614",
   "outputs": [],
   "execution_count": 22
  },
  {
   "metadata": {
    "ExecuteTime": {
     "end_time": "2025-03-15T12:26:02.830813Z",
     "start_time": "2025-03-15T12:26:02.811810Z"
    }
   },
   "cell_type": "code",
   "source": [
    "def load_model(input_size, model_path, model_type =\"simple\"):\n",
    "    if model_type == \"simple\":\n",
    "        model = SimpleClassifier(input_size=input_size)\n",
    "        model.load_state_dict(torch.load(model_path))\n",
    "        model.eval()  # Set to evaluation mode\n",
    "        print(f\"Model loaded from {model_path}\")\n",
    "    elif model_type =='transformer':\n",
    "        model = TransformerClassifier(input_size=input_size)\n",
    "        model.load_state_dict(torch.load(model_path))\n",
    "        model.eval()  # Set to evaluation mode\n",
    "        print(f\"Model loaded from {model_path}\")\n",
    "    else:\n",
    "        raise TypeError('model_type must be \"simple\" or \"transformer\"')\n",
    "    return model"
   ],
   "id": "c055e8db40cbfa6c",
   "outputs": [],
   "execution_count": 24
  },
  {
   "metadata": {
    "ExecuteTime": {
     "end_time": "2025-03-15T12:26:46.190281Z",
     "start_time": "2025-03-15T12:26:46.176378Z"
    }
   },
   "cell_type": "code",
   "source": "loaded_model_simple = load_model(input_size=input_size, model_path=\"models_saved/model_simple.pth\", model_type =\"simple\")",
   "id": "df5ddc4cdee039db",
   "outputs": [
    {
     "name": "stdout",
     "output_type": "stream",
     "text": [
      "Model loaded from models_saved/model_simple.pth\n"
     ]
    }
   ],
   "execution_count": 25
  },
  {
   "metadata": {
    "ExecuteTime": {
     "end_time": "2025-03-15T12:27:16.043064Z",
     "start_time": "2025-03-15T12:27:16.022064Z"
    }
   },
   "cell_type": "code",
   "source": "loaded_model_transformer = load_model(input_size=input_size, model_path=\"models_saved/model_transformer.pth\", model_type =\"transformer\")",
   "id": "d939051fb9310131",
   "outputs": [
    {
     "name": "stdout",
     "output_type": "stream",
     "text": [
      "Model loaded from models_saved/model_transformer.pth\n"
     ]
    }
   ],
   "execution_count": 26
  },
  {
   "metadata": {
    "ExecuteTime": {
     "end_time": "2025-03-15T12:27:37.015201Z",
     "start_time": "2025-03-15T12:27:37.007195Z"
    }
   },
   "cell_type": "code",
   "source": [
    "def predict(model, input_data):\n",
    "    with torch.no_grad():\n",
    "        input_data = torch.tensor(input_data, dtype=torch.float32)\n",
    "        input_data = input_data.view(1, -1)  # Reshape to match the input dimensions\n",
    "        output = model(input_data)\n",
    "        _, predicted_class = torch.max(output, 1)\n",
    "        return predicted_class.item()"
   ],
   "id": "a228645d0dc9528f",
   "outputs": [],
   "execution_count": 27
  },
  {
   "metadata": {
    "ExecuteTime": {
     "end_time": "2025-03-15T12:28:41.752723Z",
     "start_time": "2025-03-15T12:28:41.740632Z"
    }
   },
   "cell_type": "code",
   "source": [
    "test_df = pd.read_csv(r\"dataset_postprocessing\\0\\relax_0.csv\")\n",
    "test_df = test_df.drop('label', axis=1)\n",
    "test_df = test_df.values\n"
   ],
   "id": "e93b00ae4f0a1dce",
   "outputs": [],
   "execution_count": 34
  },
  {
   "metadata": {
    "ExecuteTime": {
     "end_time": "2025-03-15T12:28:42.302628Z",
     "start_time": "2025-03-15T12:28:42.297619Z"
    }
   },
   "cell_type": "code",
   "source": [
    "predicted_class = predict(loaded_model_simple, test_df)\n",
    "print(f\"Predicted class: {predicted_class}\")"
   ],
   "id": "295983b17678d832",
   "outputs": [
    {
     "name": "stdout",
     "output_type": "stream",
     "text": [
      "Predicted class: 0\n"
     ]
    }
   ],
   "execution_count": 35
  },
  {
   "metadata": {
    "ExecuteTime": {
     "end_time": "2025-03-15T12:28:42.820579Z",
     "start_time": "2025-03-15T12:28:42.810579Z"
    }
   },
   "cell_type": "code",
   "source": [
    "predicted_class = predict(loaded_model_transformer, test_df)\n",
    "print(f\"Predicted class: {predicted_class}\")"
   ],
   "id": "b5c58f8b11a71845",
   "outputs": [
    {
     "name": "stdout",
     "output_type": "stream",
     "text": [
      "Predicted class: 0\n"
     ]
    }
   ],
   "execution_count": 36
  },
  {
   "metadata": {},
   "cell_type": "code",
   "outputs": [],
   "execution_count": null,
   "source": "",
   "id": "82df6fac4bb02b97"
  }
 ],
 "metadata": {
  "kernelspec": {
   "display_name": "Python 3",
   "language": "python",
   "name": "python3"
  },
  "language_info": {
   "codemirror_mode": {
    "name": "ipython",
    "version": 2
   },
   "file_extension": ".py",
   "mimetype": "text/x-python",
   "name": "python",
   "nbconvert_exporter": "python",
   "pygments_lexer": "ipython2",
   "version": "2.7.6"
  }
 },
 "nbformat": 4,
 "nbformat_minor": 5
}
